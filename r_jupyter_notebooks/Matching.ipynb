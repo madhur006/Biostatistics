{
 "cells": [
  {
   "cell_type": "code",
   "execution_count": 1,
   "id": "bd046821-2ebc-40ce-9def-8adcb902ea63",
   "metadata": {},
   "outputs": [],
   "source": [
    "options(warn = -1)\n",
    "knitr::opts_chunk$set(message = FALSE, warning = FALSE)  "
   ]
  },
  {
   "cell_type": "code",
   "execution_count": 47,
   "id": "9e8b0ec4-f004-4a23-bc86-993f5c35edf1",
   "metadata": {
    "scrolled": true
   },
   "outputs": [],
   "source": [
    "library(Hmisc)\n",
    "library(tidyverse)\n",
    "library(tableone)\n",
    "library(MASS)\n",
    "library(Matching)"
   ]
  },
  {
   "cell_type": "code",
   "execution_count": 48,
   "id": "6c4c64e5-74fc-4d64-8d0d-c4c5c554eebb",
   "metadata": {
    "scrolled": true
   },
   "outputs": [
    {
     "data": {
      "text/html": [
       "<style>\n",
       ".list-inline {list-style: none; margin:0; padding: 0}\n",
       ".list-inline>li {display: inline-block}\n",
       ".list-inline>li:not(:last-child)::after {content: \"\\00b7\"; padding: 0 .5ex}\n",
       "</style>\n",
       "<ol class=list-inline><li>'abm'</li><li>'acath'</li><li>'aeTestData'</li><li>'ari_other'</li><li>'ari'</li><li>'bacteremia'</li><li>'birth.estriol'</li><li>'bodyfat'</li><li>'boston'</li><li>'cdcaids'</li><li>'cdystonia'</li><li>'counties'</li><li>'diabetes'</li><li>'dmd'</li><li>'DominicanHTN'</li><li>'FEV'</li><li>'gbsg'</li><li>'hamdp'</li><li>'hospital'</li><li>'kprats'</li><li>'lead'</li><li>'olympics.1996'</li><li>'pbc'</li><li>'plasma'</li><li>'prostate'</li><li>'rhc'</li><li>'safety'</li><li>'schizophrenia'</li><li>'sex.age.response'</li><li>'sicily'</li><li>'simhiv'</li><li>'simlongord'</li><li>'simlongord500'</li><li>'stressEcho'</li><li>'support'</li><li>'support2'</li><li>'titanic'</li><li>'titanic2'</li><li>'titanic3'</li><li>'valung'</li><li>'vlbw'</li><li>'crash2'</li><li>'esopH'</li><li>'esopH2'</li><li>'nhgh'</li><li>'gusto'</li><li>'txpo'</li></ol>\n"
      ],
      "text/latex": [
       "\\begin{enumerate*}\n",
       "\\item 'abm'\n",
       "\\item 'acath'\n",
       "\\item 'aeTestData'\n",
       "\\item 'ari\\_other'\n",
       "\\item 'ari'\n",
       "\\item 'bacteremia'\n",
       "\\item 'birth.estriol'\n",
       "\\item 'bodyfat'\n",
       "\\item 'boston'\n",
       "\\item 'cdcaids'\n",
       "\\item 'cdystonia'\n",
       "\\item 'counties'\n",
       "\\item 'diabetes'\n",
       "\\item 'dmd'\n",
       "\\item 'DominicanHTN'\n",
       "\\item 'FEV'\n",
       "\\item 'gbsg'\n",
       "\\item 'hamdp'\n",
       "\\item 'hospital'\n",
       "\\item 'kprats'\n",
       "\\item 'lead'\n",
       "\\item 'olympics.1996'\n",
       "\\item 'pbc'\n",
       "\\item 'plasma'\n",
       "\\item 'prostate'\n",
       "\\item 'rhc'\n",
       "\\item 'safety'\n",
       "\\item 'schizophrenia'\n",
       "\\item 'sex.age.response'\n",
       "\\item 'sicily'\n",
       "\\item 'simhiv'\n",
       "\\item 'simlongord'\n",
       "\\item 'simlongord500'\n",
       "\\item 'stressEcho'\n",
       "\\item 'support'\n",
       "\\item 'support2'\n",
       "\\item 'titanic'\n",
       "\\item 'titanic2'\n",
       "\\item 'titanic3'\n",
       "\\item 'valung'\n",
       "\\item 'vlbw'\n",
       "\\item 'crash2'\n",
       "\\item 'esopH'\n",
       "\\item 'esopH2'\n",
       "\\item 'nhgh'\n",
       "\\item 'gusto'\n",
       "\\item 'txpo'\n",
       "\\end{enumerate*}\n"
      ],
      "text/markdown": [
       "1. 'abm'\n",
       "2. 'acath'\n",
       "3. 'aeTestData'\n",
       "4. 'ari_other'\n",
       "5. 'ari'\n",
       "6. 'bacteremia'\n",
       "7. 'birth.estriol'\n",
       "8. 'bodyfat'\n",
       "9. 'boston'\n",
       "10. 'cdcaids'\n",
       "11. 'cdystonia'\n",
       "12. 'counties'\n",
       "13. 'diabetes'\n",
       "14. 'dmd'\n",
       "15. 'DominicanHTN'\n",
       "16. 'FEV'\n",
       "17. 'gbsg'\n",
       "18. 'hamdp'\n",
       "19. 'hospital'\n",
       "20. 'kprats'\n",
       "21. 'lead'\n",
       "22. 'olympics.1996'\n",
       "23. 'pbc'\n",
       "24. 'plasma'\n",
       "25. 'prostate'\n",
       "26. 'rhc'\n",
       "27. 'safety'\n",
       "28. 'schizophrenia'\n",
       "29. 'sex.age.response'\n",
       "30. 'sicily'\n",
       "31. 'simhiv'\n",
       "32. 'simlongord'\n",
       "33. 'simlongord500'\n",
       "34. 'stressEcho'\n",
       "35. 'support'\n",
       "36. 'support2'\n",
       "37. 'titanic'\n",
       "38. 'titanic2'\n",
       "39. 'titanic3'\n",
       "40. 'valung'\n",
       "41. 'vlbw'\n",
       "42. 'crash2'\n",
       "43. 'esopH'\n",
       "44. 'esopH2'\n",
       "45. 'nhgh'\n",
       "46. 'gusto'\n",
       "47. 'txpo'\n",
       "\n",
       "\n"
      ],
      "text/plain": [
       " [1] \"abm\"              \"acath\"            \"aeTestData\"       \"ari_other\"       \n",
       " [5] \"ari\"              \"bacteremia\"       \"birth.estriol\"    \"bodyfat\"         \n",
       " [9] \"boston\"           \"cdcaids\"          \"cdystonia\"        \"counties\"        \n",
       "[13] \"diabetes\"         \"dmd\"              \"DominicanHTN\"     \"FEV\"             \n",
       "[17] \"gbsg\"             \"hamdp\"            \"hospital\"         \"kprats\"          \n",
       "[21] \"lead\"             \"olympics.1996\"    \"pbc\"              \"plasma\"          \n",
       "[25] \"prostate\"         \"rhc\"              \"safety\"           \"schizophrenia\"   \n",
       "[29] \"sex.age.response\" \"sicily\"           \"simhiv\"           \"simlongord\"      \n",
       "[33] \"simlongord500\"    \"stressEcho\"       \"support\"          \"support2\"        \n",
       "[37] \"titanic\"          \"titanic2\"         \"titanic3\"         \"valung\"          \n",
       "[41] \"vlbw\"             \"crash2\"           \"esopH\"            \"esopH2\"          \n",
       "[45] \"nhgh\"             \"gusto\"            \"txpo\"            "
      ]
     },
     "metadata": {},
     "output_type": "display_data"
    }
   ],
   "source": [
    "getHdata()"
   ]
  },
  {
   "cell_type": "code",
   "execution_count": 49,
   "id": "0836e2d3-778c-4a28-a4ab-602e86a41083",
   "metadata": {},
   "outputs": [],
   "source": [
    "getHdata(rhc)"
   ]
  },
  {
   "cell_type": "code",
   "execution_count": 50,
   "id": "6770bddc-e98e-482c-87a7-6846f88b13cc",
   "metadata": {
    "scrolled": true
   },
   "outputs": [
    {
     "name": "stdout",
     "output_type": "stream",
     "text": [
      "Rows: 5,735\n",
      "Columns: 62\n",
      "$ cat1     \u001b[3m\u001b[90m<fct>\u001b[39m\u001b[23m COPD, MOSF w/Sepsis, MOSF w/Malignancy, ARF, MOSF w/Sepsis, C…\n",
      "$ cat2     \u001b[3m\u001b[90m<fct>\u001b[39m\u001b[23m \u001b[31mNA\u001b[39m, \u001b[31mNA\u001b[39m, MOSF w/Sepsis, \u001b[31mNA\u001b[39m, \u001b[31mNA\u001b[39m, \u001b[31mNA\u001b[39m, \u001b[31mNA\u001b[39m, Coma, \u001b[31mNA\u001b[39m, \u001b[31mNA\u001b[39m, \u001b[31mNA\u001b[39m, \u001b[31mNA\u001b[39m, …\n",
      "$ ca       \u001b[3m\u001b[90m<fct>\u001b[39m\u001b[23m Yes, No, Yes, No, No, No, Metastatic, No, Yes, Yes, No, No, N…\n",
      "$ sadmdte  \u001b[3m\u001b[90m<labelled>\u001b[39m\u001b[23m 11142, 11799, 12083, 11146, 12035, 12389, 12381, 11453, …\n",
      "$ dschdte  \u001b[3m\u001b[90m<labelled>\u001b[39m\u001b[23m 11151, 11844, 12143, 11183, 12037, 12396, 12423, 11487, …\n",
      "$ dthdte   \u001b[3m\u001b[90m<labelled>\u001b[39m\u001b[23m \u001b[31mNA\u001b[39m, 11844, \u001b[31mNA\u001b[39m, 11183, 12037, \u001b[31mNA\u001b[39m, \u001b[31mNA\u001b[39m, 11491, \u001b[31mNA\u001b[39m, \u001b[31mNA\u001b[39m, \u001b[31mNA\u001b[39m, …\n",
      "$ lstctdte \u001b[3m\u001b[90m<labelled>\u001b[39m\u001b[23m 11382, 11844, 12400, 11182, 12036, 12590, 12616, 11490, …\n",
      "$ death    \u001b[3m\u001b[90m<fct>\u001b[39m\u001b[23m No, Yes, No, Yes, Yes, No, No, Yes, No, No, No, No, Yes, Yes,…\n",
      "$ cardiohx \u001b[3m\u001b[90m<labelled>\u001b[39m\u001b[23m 0, 1, 0, 0, 0, 0, 0, 0, 0, 0, 0, 0, 1, 0, 0, 0, 0, 0, 0,…\n",
      "$ chfhx    \u001b[3m\u001b[90m<labelled>\u001b[39m\u001b[23m 0, 1, 0, 0, 0, 1, 0, 0, 0, 0, 0, 0, 0, 0, 0, 0, 0, 0, 0,…\n",
      "$ dementhx \u001b[3m\u001b[90m<labelled>\u001b[39m\u001b[23m 0, 0, 0, 0, 0, 0, 0, 0, 0, 0, 0, 0, 0, 0, 0, 0, 1, 1, 0,…\n",
      "$ psychhx  \u001b[3m\u001b[90m<labelled>\u001b[39m\u001b[23m 0, 0, 0, 0, 0, 0, 0, 0, 0, 0, 0, 0, 0, 0, 0, 0, 0, 0, 0,…\n",
      "$ chrpulhx \u001b[3m\u001b[90m<labelled>\u001b[39m\u001b[23m 1, 0, 0, 0, 0, 1, 0, 0, 0, 0, 0, 0, 0, 0, 0, 0, 0, 0, 0,…\n",
      "$ renalhx  \u001b[3m\u001b[90m<labelled>\u001b[39m\u001b[23m 0, 0, 0, 0, 0, 0, 0, 0, 0, 0, 0, 0, 0, 0, 0, 0, 0, 0, 1,…\n",
      "$ liverhx  \u001b[3m\u001b[90m<labelled>\u001b[39m\u001b[23m 0, 0, 0, 0, 0, 0, 0, 0, 0, 0, 0, 0, 0, 0, 0, 0, 0, 0, 0,…\n",
      "$ gibledhx \u001b[3m\u001b[90m<labelled>\u001b[39m\u001b[23m 0, 0, 0, 0, 0, 0, 0, 0, 0, 0, 0, 0, 0, 0, 0, 0, 0, 0, 0,…\n",
      "$ malighx  \u001b[3m\u001b[90m<labelled>\u001b[39m\u001b[23m 1, 0, 1, 0, 0, 0, 1, 0, 0, 1, 0, 0, 0, 0, 0, 1, 0, 0, 0,…\n",
      "$ immunhx  \u001b[3m\u001b[90m<labelled>\u001b[39m\u001b[23m 0, 1, 1, 1, 0, 0, 0, 0, 0, 0, 0, 0, 0, 1, 0, 0, 0, 0, 0,…\n",
      "$ transhx  \u001b[3m\u001b[90m<labelled>\u001b[39m\u001b[23m 0, 1, 0, 0, 0, 0, 0, 1, 0, 0, 1, 1, 0, 0, 1, 0, 0, 0, 0,…\n",
      "$ amihx    \u001b[3m\u001b[90m<labelled>\u001b[39m\u001b[23m 0, 0, 0, 0, 0, 0, 0, 0, 0, 0, 0, 1, 0, 0, 0, 0, 0, 0, 0,…\n",
      "$ age      \u001b[3m\u001b[90m<labelled>\u001b[39m\u001b[23m 70.25098, 78.17896, 46.09198, 75.33197, 67.90997, 86.077…\n",
      "$ sex      \u001b[3m\u001b[90m<fct>\u001b[39m\u001b[23m Male, Female, Female, Female, Male, Female, Male, Male, Femal…\n",
      "$ edu      \u001b[3m\u001b[90m<labelled>\u001b[39m\u001b[23m 12.000000, 12.000000, 14.069916, 9.000000, 9.945259, 8.0…\n",
      "$ surv2md1 \u001b[3m\u001b[90m<labelled>\u001b[39m\u001b[23m 0.6409912, 0.7549996, 0.3169999, 0.4409790, 0.4369998, 0…\n",
      "$ das2d3pc \u001b[3m\u001b[90m<labelled>\u001b[39m\u001b[23m 23.50000, 14.75195, 18.13672, 22.92969, 21.05078, 17.500…\n",
      "$ t3d30    \u001b[3m\u001b[90m<labelled>\u001b[39m\u001b[23m 30, 30, 30, 30, 2, 30, 30, 30, 30, 30, 30, 30, 30, 13, 3…\n",
      "$ dth30    \u001b[3m\u001b[90m<fct>\u001b[39m\u001b[23m No, No, No, No, Yes, No, No, No, No, No, No, No, No, Yes, No,…\n",
      "$ aps1     \u001b[3m\u001b[90m<labelled>\u001b[39m\u001b[23m 46, 50, 82, 48, 72, 38, 29, 25, 47, 48, 21, 50, 51, 55, …\n",
      "$ scoma1   \u001b[3m\u001b[90m<labelled>\u001b[39m\u001b[23m 0, 0, 0, 0, 41, 0, 26, 100, 0, 0, 0, 0, 9, 37, 0, 9, 26,…\n",
      "$ meanbp1  \u001b[3m\u001b[90m<labelled>\u001b[39m\u001b[23m 41, 63, 57, 55, 65, 115, 67, 128, 53, 73, 66, 50, 53, 77…\n",
      "$ wblc1    \u001b[3m\u001b[90m<labelled>\u001b[39m\u001b[23m 22.09765620, 28.89843750, 0.04999542, 23.29687500, 29.69…\n",
      "$ hrt1     \u001b[3m\u001b[90m<labelled>\u001b[39m\u001b[23m 124, 137, 130, 58, 125, 134, 135, 102, 118, 141, 50, 158…\n",
      "$ resp1    \u001b[3m\u001b[90m<labelled>\u001b[39m\u001b[23m 10, 38, 40, 26, 27, 36, 10, 34, 30, 40, 30, 10, 12, 40, …\n",
      "$ temp1    \u001b[3m\u001b[90m<labelled>\u001b[39m\u001b[23m 38.69531, 38.89844, 36.39844, 35.79688, 34.79688, 39.195…\n",
      "$ pafi1    \u001b[3m\u001b[90m<labelled>\u001b[39m\u001b[23m 68.00000, 218.31250, 275.50000, 156.65625, 478.00000, 18…\n",
      "$ alb1     \u001b[3m\u001b[90m<labelled>\u001b[39m\u001b[23m 3.500000, 2.599609, 3.500000, 3.500000, 3.500000, 3.0996…\n",
      "$ hema1    \u001b[3m\u001b[90m<labelled>\u001b[39m\u001b[23m 58.00000, 32.50000, 21.09766, 26.29688, 24.00000, 30.500…\n",
      "$ bili1    \u001b[3m\u001b[90m<labelled>\u001b[39m\u001b[23m 1.0097656, 0.6999512, 1.0097656, 0.3999634, 1.0097656, 1…\n",
      "$ crea1    \u001b[3m\u001b[90m<labelled>\u001b[39m\u001b[23m 1.1999512, 0.5999756, 2.5996094, 1.6999512, 3.5996094, 1…\n",
      "$ sod1     \u001b[3m\u001b[90m<labelled>\u001b[39m\u001b[23m 145, 137, 146, 117, 126, 138, 136, 136, 136, 146, 133, 1…\n",
      "$ pot1     \u001b[3m\u001b[90m<labelled>\u001b[39m\u001b[23m 4.000000, 3.299805, 2.899902, 5.799805, 5.799805, 5.3994…\n",
      "$ paco21   \u001b[3m\u001b[90m<labelled>\u001b[39m\u001b[23m 40.00000, 34.00000, 16.00000, 30.00000, 17.00000, 68.000…\n",
      "$ ph1      \u001b[3m\u001b[90m<labelled>\u001b[39m\u001b[23m 7.359375, 7.329102, 7.359375, 7.459961, 7.229492, 7.2998…\n",
      "$ swang1   \u001b[3m\u001b[90m<fct>\u001b[39m\u001b[23m No RHC, RHC, RHC, No RHC, RHC, No RHC, No RHC, No RHC, No RHC…\n",
      "$ wtkilo1  \u001b[3m\u001b[90m<labelled>\u001b[39m\u001b[23m 64.69995, 45.69998, 0.00000, 54.59998, 78.39996, 54.8999…\n",
      "$ dnr1     \u001b[3m\u001b[90m<fct>\u001b[39m\u001b[23m No, No, No, No, Yes, No, No, No, No, No, No, No, No, No, No, …\n",
      "$ ninsclas \u001b[3m\u001b[90m<fct>\u001b[39m\u001b[23m Medicare, Private & Medicare, Private, Private & Medicare, Me…\n",
      "$ resp     \u001b[3m\u001b[90m<fct>\u001b[39m\u001b[23m Yes, No, No, Yes, No, Yes, No, Yes, No, No, Yes, No, No, Yes,…\n",
      "$ card     \u001b[3m\u001b[90m<fct>\u001b[39m\u001b[23m Yes, No, Yes, No, Yes, No, No, No, No, No, No, Yes, Yes, No, …\n",
      "$ neuro    \u001b[3m\u001b[90m<fct>\u001b[39m\u001b[23m No, No, No, No, No, No, No, Yes, No, Yes, No, No, No, No, No,…\n",
      "$ gastr    \u001b[3m\u001b[90m<fct>\u001b[39m\u001b[23m No, No, No, No, No, No, No, No, No, Yes, No, No, No, No, No, …\n",
      "$ renal    \u001b[3m\u001b[90m<fct>\u001b[39m\u001b[23m No, No, No, No, No, No, Yes, No, No, No, No, No, No, No, No, …\n",
      "$ meta     \u001b[3m\u001b[90m<fct>\u001b[39m\u001b[23m No, No, No, No, No, No, No, No, No, No, No, No, No, No, No, N…\n",
      "$ hema     \u001b[3m\u001b[90m<fct>\u001b[39m\u001b[23m No, No, No, No, No, No, No, No, Yes, No, No, No, No, No, No, …\n",
      "$ seps     \u001b[3m\u001b[90m<fct>\u001b[39m\u001b[23m No, Yes, No, No, No, No, No, Yes, No, No, No, No, No, No, No,…\n",
      "$ trauma   \u001b[3m\u001b[90m<fct>\u001b[39m\u001b[23m No, No, No, No, No, No, No, No, No, No, Yes, No, No, No, No, …\n",
      "$ ortho    \u001b[3m\u001b[90m<fct>\u001b[39m\u001b[23m No, No, No, No, No, No, No, No, No, No, No, No, No, No, No, N…\n",
      "$ adld3p   \u001b[3m\u001b[90m<labelled>\u001b[39m\u001b[23m 0, \u001b[31mNA\u001b[39m, \u001b[31mNA\u001b[39m, \u001b[31mNA\u001b[39m, \u001b[31mNA\u001b[39m, 0, \u001b[31mNA\u001b[39m, \u001b[31mNA\u001b[39m, \u001b[31mNA\u001b[39m, \u001b[31mNA\u001b[39m, \u001b[31mNA\u001b[39m, \u001b[31mNA\u001b[39m, \u001b[31mNA\u001b[39m, 0, \u001b[31mNA\u001b[39m,…\n",
      "$ urin1    \u001b[3m\u001b[90m<labelled>\u001b[39m\u001b[23m \u001b[31mNA\u001b[39m, 1437, 599, \u001b[31mNA\u001b[39m, 64, 242, 4465, \u001b[31mNA\u001b[39m, 5525, \u001b[31mNA\u001b[39m, 2870, 17…\n",
      "$ race     \u001b[3m\u001b[90m<fct>\u001b[39m\u001b[23m white, white, white, white, white, white, white, white, white…\n",
      "$ income   \u001b[3m\u001b[90m<fct>\u001b[39m\u001b[23m Under $11k, Under $11k, $25-$50k, $11-$25k, Under $11k, Under…\n",
      "$ ptid     \u001b[3m\u001b[90m<labelled>\u001b[39m\u001b[23m \"00005\", \"00007\", \"00009\", \"00010\", \"00011\", \"00012\", \"0…\n"
     ]
    }
   ],
   "source": [
    "glimpse(rhc)"
   ]
  },
  {
   "cell_type": "markdown",
   "id": "c673ea96-d5d7-46d6-a37b-f54d5bff6dc2",
   "metadata": {},
   "source": [
    "##\n",
    "* ICU patients in 5 Hospitals\n",
    "* treatment : rhc or not\n",
    "* outcome : death : yes or no\n",
    "* confounders : demographics, insurances etc\n",
    "* 2184 treated, 3551 control  "
   ]
  },
  {
   "cell_type": "code",
   "execution_count": 51,
   "id": "23f9687f-45d1-4ea1-924f-f5384091a0f0",
   "metadata": {},
   "outputs": [],
   "source": [
    "#create a data set with just these variables\n",
    "ARF<-as.numeric(rhc$cat1=='ARF')\n",
    "CHF<-as.numeric(rhc$cat1=='CHF')\n",
    "Cirr<-as.numeric(rhc$cat1=='Cirrhosis')\n",
    "colcan<-as.numeric(rhc$cat1=='Colon Cancer')\n",
    "Coma<-as.numeric(rhc$cat1=='Coma')\n",
    "COPD<-as.numeric(rhc$cat1=='COPD')\n",
    "lungcan<-as.numeric(rhc$cat1=='Lung Cancer')\n",
    "MOSF<-as.numeric(rhc$cat1=='MOSF w/Malignancy')\n",
    "sepsis<-as.numeric(rhc$cat1=='MOSF w/Sepsis')\n",
    "female<-as.numeric(rhc$sex=='Female')\n",
    "died<-as.numeric(rhc$death=='Yes')\n",
    "age<-rhc$age\n",
    "treatment<-as.numeric(rhc$swang1=='RHC')\n",
    "meanbp1<-rhc$meanbp1\n"
   ]
  },
  {
   "cell_type": "code",
   "execution_count": 52,
   "id": "67874824-93f5-4c6e-b2a4-70b22b470c56",
   "metadata": {},
   "outputs": [],
   "source": [
    "df <- cbind(ARF,CHF,Cirr,colcan,Coma,lungcan,MOSF,sepsis,\n",
    "              age,female,meanbp1,treatment,died)\n",
    "df <- data.frame(df)"
   ]
  },
  {
   "cell_type": "code",
   "execution_count": 53,
   "id": "42eb8277-8ae6-4021-a3ec-3bed4023ed14",
   "metadata": {},
   "outputs": [
    {
     "name": "stdout",
     "output_type": "stream",
     "text": [
      "Rows: 5,735\n",
      "Columns: 13\n",
      "$ ARF       \u001b[3m\u001b[90m<dbl>\u001b[39m\u001b[23m 0, 0, 0, 1, 0, 0, 0, 1, 0, 1, 1, 1, 0, 0, 1, 0, 1, 0, 0, 1, …\n",
      "$ CHF       \u001b[3m\u001b[90m<dbl>\u001b[39m\u001b[23m 0, 0, 0, 0, 0, 0, 0, 0, 0, 0, 0, 0, 0, 0, 0, 0, 0, 0, 0, 0, …\n",
      "$ Cirr      \u001b[3m\u001b[90m<dbl>\u001b[39m\u001b[23m 0, 0, 0, 0, 0, 0, 0, 0, 0, 0, 0, 0, 0, 0, 0, 0, 0, 0, 0, 0, …\n",
      "$ colcan    \u001b[3m\u001b[90m<dbl>\u001b[39m\u001b[23m 0, 0, 0, 0, 0, 0, 0, 0, 0, 0, 0, 0, 0, 0, 0, 0, 0, 0, 0, 0, …\n",
      "$ Coma      \u001b[3m\u001b[90m<dbl>\u001b[39m\u001b[23m 0, 0, 0, 0, 0, 0, 0, 0, 0, 0, 0, 0, 0, 0, 0, 0, 0, 0, 0, 0, …\n",
      "$ lungcan   \u001b[3m\u001b[90m<dbl>\u001b[39m\u001b[23m 0, 0, 0, 0, 0, 0, 0, 0, 0, 0, 0, 0, 0, 0, 0, 0, 0, 0, 0, 0, …\n",
      "$ MOSF      \u001b[3m\u001b[90m<dbl>\u001b[39m\u001b[23m 0, 0, 1, 0, 0, 0, 1, 0, 1, 0, 0, 0, 0, 0, 0, 1, 0, 0, 0, 0, …\n",
      "$ sepsis    \u001b[3m\u001b[90m<dbl>\u001b[39m\u001b[23m 0, 1, 0, 0, 1, 0, 0, 0, 0, 0, 0, 0, 1, 1, 0, 0, 0, 1, 1, 0, …\n",
      "$ age       \u001b[3m\u001b[90m<dbl>\u001b[39m\u001b[23m 70.25098, 78.17896, 46.09198, 75.33197, 67.90997, 86.07794, …\n",
      "$ female    \u001b[3m\u001b[90m<dbl>\u001b[39m\u001b[23m 0, 1, 1, 1, 0, 1, 0, 0, 1, 1, 0, 0, 0, 1, 0, 0, 0, 1, 0, 0, …\n",
      "$ meanbp1   \u001b[3m\u001b[90m<dbl>\u001b[39m\u001b[23m 41, 63, 57, 55, 65, 115, 67, 128, 53, 73, 66, 50, 53, 77, 67…\n",
      "$ treatment \u001b[3m\u001b[90m<dbl>\u001b[39m\u001b[23m 0, 1, 1, 0, 1, 0, 0, 0, 0, 1, 0, 1, 1, 0, 0, 0, 1, 1, 0, 0, …\n",
      "$ died      \u001b[3m\u001b[90m<dbl>\u001b[39m\u001b[23m 0, 1, 0, 1, 1, 0, 0, 1, 0, 0, 0, 0, 1, 1, 0, 1, 1, 1, 0, 0, …\n"
     ]
    }
   ],
   "source": [
    "glimpse(df)"
   ]
  },
  {
   "cell_type": "code",
   "execution_count": 54,
   "id": "66c75983-2ccd-443a-a804-3a2799c7d663",
   "metadata": {},
   "outputs": [],
   "source": [
    "#covariates\n",
    "xvars<-c(\"ARF\",\"CHF\",\"Cirr\",\"colcan\",\"Coma\",\"lungcan\",\"MOSF\",\"sepsis\",\n",
    "         \"age\",\"female\",\"meanbp1\")"
   ]
  },
  {
   "cell_type": "code",
   "execution_count": null,
   "id": "f64baf52-5184-4789-bbbc-eec42c395e73",
   "metadata": {},
   "outputs": [],
   "source": []
  },
  {
   "cell_type": "code",
   "execution_count": 55,
   "id": "8a6a61fa-f65a-43aa-9115-bef6c15ad6de",
   "metadata": {},
   "outputs": [
    {
     "name": "stdout",
     "output_type": "stream",
     "text": [
      "                     Stratified by treatment\n",
      "                      0             1             SMD   \n",
      "  n                    3551          2184               \n",
      "  ARF (mean (SD))      0.45 (0.50)   0.42 (0.49)   0.059\n",
      "  CHF (mean (SD))      0.07 (0.25)   0.10 (0.29)   0.095\n",
      "  Cirr (mean (SD))     0.05 (0.22)   0.02 (0.15)   0.145\n",
      "  colcan (mean (SD))   0.00 (0.04)   0.00 (0.02)   0.038\n",
      "  Coma (mean (SD))     0.10 (0.29)   0.04 (0.20)   0.207\n",
      "  lungcan (mean (SD))  0.01 (0.10)   0.00 (0.05)   0.095\n",
      "  MOSF (mean (SD))     0.07 (0.25)   0.07 (0.26)   0.018\n",
      "  sepsis (mean (SD))   0.15 (0.36)   0.32 (0.47)   0.415\n",
      "  age (mean (SD))     61.76 (17.29) 60.75 (15.63)  0.061\n",
      "  female (mean (SD))   0.46 (0.50)   0.41 (0.49)   0.093\n",
      "  meanbp1 (mean (SD)) 84.87 (38.87) 68.20 (34.24)  0.455\n"
     ]
    }
   ],
   "source": [
    "table1 <- CreateTableOne(vars = xvars, strata = \"treatment\" , data = df, test = FALSE)\n",
    "# include standardized mean difference (SMD)\n",
    "print(table1,smd=TRUE)\n",
    "\n",
    "# concerned SMD > 0.1 "
   ]
  },
  {
   "cell_type": "code",
   "execution_count": 35,
   "id": "35d3decb-32b0-4585-ad23-f1d7211d2927",
   "metadata": {
    "scrolled": true
   },
   "outputs": [],
   "source": [
    "# greedy matching on Mahalanobis distance\n",
    "greedy.match <- Match(Tr = treatment, M=1, X = df[xvars], replace = FALSE)\n",
    "match_data <- df[unlist(greedy.match[c(\"index.treated\",\"index.control\")]), ]"
   ]
  },
  {
   "cell_type": "code",
   "execution_count": 38,
   "id": "ec220468-348f-41a2-9b93-a810437d726b",
   "metadata": {},
   "outputs": [
    {
     "name": "stdout",
     "output_type": "stream",
     "text": [
      "                     Stratified by treatment\n",
      "                      0             1             SMD   \n",
      "  n                    2184          2184               \n",
      "  ARF (mean (SD))      0.42 (0.49)   0.42 (0.49)   0.006\n",
      "  CHF (mean (SD))      0.10 (0.29)   0.10 (0.29)  <0.001\n",
      "  Cirr (mean (SD))     0.02 (0.15)   0.02 (0.15)  <0.001\n",
      "  colcan (mean (SD))   0.00 (0.02)   0.00 (0.02)  <0.001\n",
      "  Coma (mean (SD))     0.04 (0.20)   0.04 (0.20)  <0.001\n",
      "  lungcan (mean (SD))  0.00 (0.05)   0.00 (0.05)  <0.001\n",
      "  MOSF (mean (SD))     0.07 (0.26)   0.07 (0.26)  <0.001\n",
      "  sepsis (mean (SD))   0.24 (0.43)   0.32 (0.47)   0.177\n",
      "  age (mean (SD))     61.53 (16.15) 60.75 (15.63)  0.049\n",
      "  female (mean (SD))   0.44 (0.50)   0.41 (0.49)   0.042\n",
      "  meanbp1 (mean (SD)) 73.12 (34.28) 68.20 (34.24)  0.144\n"
     ]
    }
   ],
   "source": [
    "#get table 1 for matched data with standardized differences\n",
    "matchedtab1<-CreateTableOne(vars=xvars, strata =\"treatment\", \n",
    "                            data=match_data, test = FALSE)\n",
    "print(matchedtab1, smd = TRUE)"
   ]
  },
  {
   "cell_type": "code",
   "execution_count": 40,
   "id": "26e76c15-44db-4132-bb5d-731a588eee41",
   "metadata": {},
   "outputs": [],
   "source": [
    "#outcome analysis\n",
    "y_trt<-match_data$died[match_data$treatment==1]\n",
    "y_con<-match_data$died[match_data$treatment==0]"
   ]
  },
  {
   "cell_type": "code",
   "execution_count": 41,
   "id": "a99331d5-074b-450c-9583-30265cea6ebb",
   "metadata": {
    "scrolled": true
   },
   "outputs": [
    {
     "data": {
      "text/plain": [
       "\n",
       "\tOne Sample t-test\n",
       "\n",
       "data:  diffy\n",
       "t = 3.9289, df = 2183, p-value = 8.799e-05\n",
       "alternative hypothesis: true mean is not equal to 0\n",
       "95 percent confidence interval:\n",
       " 0.02706131 0.08099730\n",
       "sample estimates:\n",
       "mean of x \n",
       "0.0540293 \n"
      ]
     },
     "metadata": {},
     "output_type": "display_data"
    }
   ],
   "source": [
    "\n",
    "#pairwise difference\n",
    "diffy<-y_trt-y_con\n",
    "\n",
    "#paired t-test\n",
    "t.test(diffy)"
   ]
  },
  {
   "cell_type": "code",
   "execution_count": 42,
   "id": "e039f653-08cd-4a49-ba14-2247bb9d1a45",
   "metadata": {
    "scrolled": true
   },
   "outputs": [
    {
     "data": {
      "text/plain": [
       "     y_con\n",
       "y_trt   0   1\n",
       "    0 303 395\n",
       "    1 513 973"
      ]
     },
     "metadata": {},
     "output_type": "display_data"
    },
    {
     "data": {
      "text/plain": [
       "\n",
       "\tMcNemar's Chi-squared test with continuity correction\n",
       "\n",
       "data:  matrix(c(973, 513, 395, 303), 2, 2)\n",
       "McNemar's chi-squared = 15.076, df = 1, p-value = 0.0001033\n"
      ]
     },
     "metadata": {},
     "output_type": "display_data"
    }
   ],
   "source": [
    "\n",
    "#McNemar test\n",
    "table(y_trt,y_con)\n",
    "\n",
    "mcnemar.test(matrix(c(973,513,395,303),2,2))\n"
   ]
  },
  {
   "cell_type": "markdown",
   "id": "0f3493c0-0def-4193-bd41-9c56ed82e77d",
   "metadata": {},
   "source": [
    "### Propensity Score Matching "
   ]
  },
  {
   "cell_type": "code",
   "execution_count": 58,
   "id": "878eff41-1c06-4138-84e7-d2678cfdcce2",
   "metadata": {},
   "outputs": [],
   "source": [
    "#fit a propensity score model. logistic regression\n",
    "psmodel <- glm(treatment ~ ARF+CHF+Cirr+colcan+Coma+lungcan+MOSF+\n",
    "               sepsis+age+female+meanbp1,\n",
    "   family = binomial(), data = df)\n"
   ]
  },
  {
   "cell_type": "code",
   "execution_count": 61,
   "id": "8deea244-ea68-46c7-ae7e-a949ee5d16e9",
   "metadata": {},
   "outputs": [
    {
     "data": {
      "text/plain": [
       "\n",
       "Call:\n",
       "glm(formula = treatment ~ ARF + CHF + Cirr + colcan + Coma + \n",
       "    lungcan + MOSF + sepsis + age + female + meanbp1, family = binomial(), \n",
       "    data = df)\n",
       "\n",
       "Coefficients:\n",
       "              Estimate Std. Error z value Pr(>|z|)    \n",
       "(Intercept) -0.7299670  0.1997692  -3.654 0.000258 ***\n",
       "ARF          1.2931956  0.1487784   8.692  < 2e-16 ***\n",
       "CHF          1.6804704  0.1715672   9.795  < 2e-16 ***\n",
       "Cirr         0.5234506  0.2181458   2.400 0.016416 *  \n",
       "colcan       0.0295468  1.0985361   0.027 0.978542    \n",
       "Coma         0.7013451  0.1854937   3.781 0.000156 ***\n",
       "lungcan     -0.0869570  0.5039331  -0.173 0.863000    \n",
       "MOSF         1.3046587  0.1772705   7.360 1.84e-13 ***\n",
       "sepsis       2.0433604  0.1545437  13.222  < 2e-16 ***\n",
       "age         -0.0031374  0.0017289  -1.815 0.069567 .  \n",
       "female      -0.1697903  0.0583574  -2.909 0.003620 ** \n",
       "meanbp1     -0.0109824  0.0008217 -13.366  < 2e-16 ***\n",
       "---\n",
       "Signif. codes:  0 ‘***’ 0.001 ‘**’ 0.01 ‘*’ 0.05 ‘.’ 0.1 ‘ ’ 1\n",
       "\n",
       "(Dispersion parameter for binomial family taken to be 1)\n",
       "\n",
       "    Null deviance: 7621.4  on 5734  degrees of freedom\n",
       "Residual deviance: 6983.6  on 5723  degrees of freedom\n",
       "AIC: 7007.6\n",
       "\n",
       "Number of Fisher Scoring iterations: 4\n"
      ]
     },
     "metadata": {},
     "output_type": "display_data"
    }
   ],
   "source": [
    "summary(psmodel)"
   ]
  },
  {
   "cell_type": "code",
   "execution_count": 64,
   "id": "3269583f-74ff-4ac3-984c-e996a106251f",
   "metadata": {},
   "outputs": [],
   "source": [
    "# create propensity score\n",
    "pscore <- psmodel$fitted.values\n"
   ]
  },
  {
   "cell_type": "code",
   "execution_count": 66,
   "id": "ad7c104c-6d50-4a7f-ab37-3034605b0278",
   "metadata": {
    "scrolled": true
   },
   "outputs": [
    {
     "data": {
      "text/html": [
       "<style>\n",
       ".dl-inline {width: auto; margin:0; padding: 0}\n",
       ".dl-inline>dt, .dl-inline>dd {float: none; width: auto; display: inline-block}\n",
       ".dl-inline>dt::after {content: \":\\0020\"; padding-right: .5ex}\n",
       ".dl-inline>dt:not(:first-of-type) {padding-left: .5ex}\n",
       "</style><dl class=dl-inline><dt>1</dt><dd>0.197713159040926</dd><dt>2</dt><dd>0.55142638705928</dd><dt>3</dt><dd>0.409579786166645</dd></dl>\n"
      ],
      "text/latex": [
       "\\begin{description*}\n",
       "\\item[1] 0.197713159040926\n",
       "\\item[2] 0.55142638705928\n",
       "\\item[3] 0.409579786166645\n",
       "\\end{description*}\n"
      ],
      "text/markdown": [
       "1\n",
       ":   0.1977131590409262\n",
       ":   0.551426387059283\n",
       ":   0.409579786166645\n",
       "\n"
      ],
      "text/plain": [
       "        1         2         3 \n",
       "0.1977132 0.5514264 0.4095798 "
      ]
     },
     "metadata": {},
     "output_type": "display_data"
    }
   ],
   "source": [
    "pscore[1:3]"
   ]
  },
  {
   "cell_type": "code",
   "execution_count": 68,
   "id": "55f58a33-1e2f-4bca-a4be-c73faa36035c",
   "metadata": {},
   "outputs": [
    {
     "data": {
      "text/html": [
       "<style>\n",
       ".dl-inline {width: auto; margin:0; padding: 0}\n",
       ".dl-inline>dt, .dl-inline>dd {float: none; width: auto; display: inline-block}\n",
       ".dl-inline>dt::after {content: \":\\0020\"; padding-right: .5ex}\n",
       ".dl-inline>dt:not(:first-of-type) {padding-left: .5ex}\n",
       "</style><dl class=dl-inline><dt>1</dt><dd>-1.40064891236504</dd><dt>2</dt><dd>0.206435552656058</dd><dt>3</dt><dd>-0.365702787894345</dd></dl>\n"
      ],
      "text/latex": [
       "\\begin{description*}\n",
       "\\item[1] -1.40064891236504\n",
       "\\item[2] 0.206435552656058\n",
       "\\item[3] -0.365702787894345\n",
       "\\end{description*}\n"
      ],
      "text/markdown": [
       "1\n",
       ":   -1.400648912365042\n",
       ":   0.2064355526560583\n",
       ":   -0.365702787894345\n",
       "\n"
      ],
      "text/plain": [
       "         1          2          3 \n",
       "-1.4006489  0.2064356 -0.3657028 "
      ]
     },
     "metadata": {},
     "output_type": "display_data"
    }
   ],
   "source": [
    "# It maps probabilities (ranging between 0 and 1) to values from −∞ to +∞\n",
    "logit <- function(p) {\n",
    "    log(p) - log(1-p)\n",
    "}\n",
    "\n",
    "logit(pscore)[1:3]"
   ]
  },
  {
   "cell_type": "code",
   "execution_count": null,
   "id": "07e9f07a-66e0-4668-8c03-59440935e828",
   "metadata": {},
   "outputs": [],
   "source": []
  },
  {
   "cell_type": "code",
   "execution_count": 80,
   "id": "e89606f8-96aa-4ae2-83be-86f73dda7933",
   "metadata": {},
   "outputs": [],
   "source": [
    "# greedy matching on logit(PS) using Match with a caliper\n",
    "logit <- function(p) {\n",
    "    log(p)-log(1-p)\n",
    "}\n",
    "psmatch<-Match(Tr=df$treatment,M=1,X=logit(pscore),replace=FALSE,caliper=.2)\n",
    "matched<-df[unlist(psmatch[c(\"index.treated\",\"index.control\")]), ]\n",
    "xvars<-c(\"ARF\",\"CHF\",\"Cirr\",\"colcan\",\"Coma\",\"lungcan\",\"MOSF\",\"sepsis\",\n",
    "         \"age\",\"female\",\"meanbp1\")"
   ]
  },
  {
   "cell_type": "code",
   "execution_count": 86,
   "id": "72b78444-0bdd-4567-b723-6bb0a1ee8e0d",
   "metadata": {},
   "outputs": [
    {
     "name": "stdout",
     "output_type": "stream",
     "text": [
      "                     Stratified by treatment\n",
      "                      0             1             SMD   \n",
      "  n                    1932          1932               \n",
      "  ARF (mean (SD))      0.47 (0.50)   0.47 (0.50)   0.009\n",
      "  CHF (mean (SD))      0.10 (0.29)   0.09 (0.29)   0.004\n",
      "  Cirr (mean (SD))     0.02 (0.15)   0.03 (0.16)   0.010\n",
      "  colcan (mean (SD))   0.00 (0.04)   0.00 (0.02)   0.032\n",
      "  Coma (mean (SD))     0.05 (0.21)   0.05 (0.22)   0.007\n",
      "  lungcan (mean (SD))  0.00 (0.05)   0.00 (0.05)  <0.001\n",
      "  MOSF (mean (SD))     0.08 (0.28)   0.08 (0.27)   0.008\n",
      "  sepsis (mean (SD))   0.25 (0.43)   0.25 (0.43)   0.010\n",
      "  age (mean (SD))     60.93 (18.00) 60.93 (15.50) <0.001\n",
      "  female (mean (SD))   0.43 (0.50)   0.43 (0.49)   0.013\n",
      "  meanbp1 (mean (SD)) 71.20 (33.65) 70.98 (35.02)  0.006\n"
     ]
    }
   ],
   "source": [
    "#get standardized differences\n",
    "matchedtab1<-CreateTableOne(vars=xvars, strata =\"treatment\", \n",
    "                            data=matched, test = FALSE)\n",
    "print(matchedtab1, smd = TRUE)"
   ]
  },
  {
   "cell_type": "code",
   "execution_count": 87,
   "id": "e132aba2-ea47-456e-afc7-664f0fb89969",
   "metadata": {},
   "outputs": [
    {
     "data": {
      "text/plain": [
       "\n",
       "\tOne Sample t-test\n",
       "\n",
       "data:  diffy\n",
       "t = 3.0098, df = 1931, p-value = 0.002648\n",
       "alternative hypothesis: true mean is not equal to 0\n",
       "95 percent confidence interval:\n",
       " 0.01568901 0.07437310\n",
       "sample estimates:\n",
       " mean of x \n",
       "0.04503106 \n"
      ]
     },
     "metadata": {},
     "output_type": "display_data"
    }
   ],
   "source": [
    "\n",
    "#outcome analysis\n",
    "y_trt<-matched$died[matched$treatment==1]\n",
    "y_con<-matched$died[matched$treatment==0]\n",
    "\n",
    "#pairwise difference\n",
    "diffy<-y_trt-y_con\n",
    "\n",
    "#paired t-test\n",
    "t.test(diffy)\n",
    "\n"
   ]
  },
  {
   "cell_type": "code",
   "execution_count": null,
   "id": "3a301b2b-cec6-44ee-bb26-170f0cc5cef3",
   "metadata": {},
   "outputs": [],
   "source": []
  }
 ],
 "metadata": {
  "kernelspec": {
   "display_name": "R",
   "language": "R",
   "name": "ir"
  },
  "language_info": {
   "codemirror_mode": "r",
   "file_extension": ".r",
   "mimetype": "text/x-r-source",
   "name": "R",
   "pygments_lexer": "r",
   "version": "4.4.2"
  }
 },
 "nbformat": 4,
 "nbformat_minor": 5
}
